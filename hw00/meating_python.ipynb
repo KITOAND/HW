{
 "cells": [
  {
   "cell_type": "markdown",
   "metadata": {},
   "source": [
    "## FizzBuzz"
   ]
  },
  {
   "cell_type": "code",
   "execution_count": 594,
   "metadata": {
    "collapsed": false
   },
   "outputs": [
    {
     "name": "stdout",
     "output_type": "stream",
     "text": [
      "1\n",
      "2\n",
      "Fizz\n",
      "4\n",
      "Buzz\n",
      "Fizz\n",
      "7\n",
      "8\n",
      "Fizz\n",
      "Buzz\n",
      "11\n",
      "Fizz\n",
      "13\n",
      "14\n",
      "FizzBuzz\n",
      "16\n",
      "17\n",
      "Fizz\n",
      "19\n",
      "Buzz\n",
      "Fizz\n",
      "22\n",
      "23\n",
      "Fizz\n",
      "Buzz\n",
      "26\n",
      "Fizz\n",
      "28\n",
      "29\n",
      "FizzBuzz\n",
      "31\n",
      "32\n",
      "Fizz\n",
      "34\n",
      "Buzz\n",
      "Fizz\n",
      "37\n",
      "38\n",
      "Fizz\n",
      "Buzz\n",
      "41\n",
      "Fizz\n",
      "43\n",
      "44\n",
      "FizzBuzz\n",
      "46\n",
      "47\n",
      "Fizz\n",
      "49\n",
      "Buzz\n",
      "Fizz\n",
      "52\n",
      "53\n",
      "Fizz\n",
      "Buzz\n",
      "56\n",
      "Fizz\n",
      "58\n",
      "59\n",
      "FizzBuzz\n",
      "61\n",
      "62\n",
      "Fizz\n",
      "64\n",
      "Buzz\n",
      "Fizz\n",
      "67\n",
      "68\n",
      "Fizz\n",
      "Buzz\n",
      "71\n",
      "Fizz\n",
      "73\n",
      "74\n",
      "FizzBuzz\n",
      "76\n",
      "77\n",
      "Fizz\n",
      "79\n",
      "Buzz\n",
      "Fizz\n",
      "82\n",
      "83\n",
      "Fizz\n",
      "Buzz\n",
      "86\n",
      "Fizz\n",
      "88\n",
      "89\n",
      "FizzBuzz\n",
      "91\n",
      "92\n",
      "Fizz\n",
      "94\n",
      "Buzz\n",
      "Fizz\n",
      "97\n",
      "98\n",
      "Fizz\n",
      "Buzz\n"
     ]
    }
   ],
   "source": [
    "for x in range(1,101):\n",
    "    if x % 15 ==0:\n",
    "        print 'FizzBuzz'\n",
    "    elif x % 3 == 0:\n",
    "        print 'Fizz'\n",
    "    elif x % 5 ==0:\n",
    "        print 'Buzz'\n",
    "    else:\n",
    "        print x"
   ]
  },
  {
   "cell_type": "markdown",
   "metadata": {},
   "source": [
    "## Fibonacci"
   ]
  },
  {
   "cell_type": "code",
   "execution_count": 595,
   "metadata": {
    "collapsed": false
   },
   "outputs": [
    {
     "name": "stdout",
     "output_type": "stream",
     "text": [
      "218922995834555169026\n"
     ]
    }
   ],
   "source": [
    "x = 0\n",
    "y = 1\n",
    "for i in range (98):\n",
    "    F = x + y\n",
    "    x = y\n",
    "    y = F \n",
    "print F"
   ]
  },
  {
   "cell_type": "markdown",
   "metadata": {},
   "source": [
    "## NumPy"
   ]
  },
  {
   "cell_type": "code",
   "execution_count": 596,
   "metadata": {
    "collapsed": true
   },
   "outputs": [],
   "source": [
    "import numpy as np"
   ]
  },
  {
   "cell_type": "code",
   "execution_count": 597,
   "metadata": {
    "collapsed": false
   },
   "outputs": [],
   "source": [
    "a = np.linspace(2.0, 3.0, num=5)"
   ]
  },
  {
   "cell_type": "code",
   "execution_count": 598,
   "metadata": {
    "collapsed": false
   },
   "outputs": [
    {
     "data": {
      "text/plain": [
       "numpy.ndarray"
      ]
     },
     "execution_count": 598,
     "metadata": {},
     "output_type": "execute_result"
    }
   ],
   "source": [
    "type(a)"
   ]
  },
  {
   "cell_type": "code",
   "execution_count": 599,
   "metadata": {
    "collapsed": false
   },
   "outputs": [],
   "source": [
    "x = np.linspace(2.0, 3.0, num=5)"
   ]
  },
  {
   "cell_type": "code",
   "execution_count": 600,
   "metadata": {
    "collapsed": false
   },
   "outputs": [
    {
     "name": "stdout",
     "output_type": "stream",
     "text": [
      "[ 2.    2.25  2.5   2.75  3.  ]\n"
     ]
    }
   ],
   "source": [
    "print x"
   ]
  },
  {
   "cell_type": "code",
   "execution_count": 601,
   "metadata": {
    "collapsed": false
   },
   "outputs": [],
   "source": [
    "def analog1(x,y,z):\n",
    "    p = x\n",
    "    a = np.zeros(5)\n",
    "    a[0] = x\n",
    "    for i in range(z-1):\n",
    "            p = p + (y-x)/(z-1)\n",
    "            a[i+1] = p\n",
    "    return a"
   ]
  },
  {
   "cell_type": "code",
   "execution_count": 602,
   "metadata": {
    "collapsed": false
   },
   "outputs": [
    {
     "name": "stdout",
     "output_type": "stream",
     "text": [
      "[ 2.    2.25  2.5   2.75  3.  ]\n"
     ]
    }
   ],
   "source": [
    "g1 = analog1(2.0, 3.0, 5)\n",
    "print g1"
   ]
  },
  {
   "cell_type": "code",
   "execution_count": 603,
   "metadata": {
    "collapsed": true
   },
   "outputs": [],
   "source": [
    "def analog2(x,y,z): \n",
    "    a = [x+i*(y-x)/(z-1) for i in range(z) ]\n",
    "    return a"
   ]
  },
  {
   "cell_type": "code",
   "execution_count": 604,
   "metadata": {
    "collapsed": false
   },
   "outputs": [
    {
     "name": "stdout",
     "output_type": "stream",
     "text": [
      "[2.0, 2.25, 2.5, 2.75, 3.0]\n"
     ]
    }
   ],
   "source": [
    "g2 = analog2(2.0, 3.0, 5)\n",
    "print g2"
   ]
  },
  {
   "cell_type": "code",
   "execution_count": 605,
   "metadata": {
    "collapsed": false
   },
   "outputs": [
    {
     "name": "stdout",
     "output_type": "stream",
     "text": [
      "The slowest run took 9.06 times longer than the fastest. This could mean that an intermediate result is being cached.\n",
      "100000 loops, best of 3: 10.5 µs per loop\n",
      "100000 loops, best of 3: 6.27 µs per loop\n",
      "100000 loops, best of 3: 3.33 µs per loop\n"
     ]
    }
   ],
   "source": [
    "%timeit x = np.linspace(2.0, 3.0, num=5)\n",
    "%timeit g1 = analog1(2.0, 3.0, 5)\n",
    "%timeit g2 = analog2(2.0, 3.0, 5)"
   ]
  },
  {
   "cell_type": "code",
   "execution_count": 606,
   "metadata": {
    "collapsed": true
   },
   "outputs": [],
   "source": [
    "x1 = [1, 2, 3, 4]\n",
    "x2 = [5, 6, 7, 8]\n",
    "y1 = np.array(x1)\n",
    "y2 = np.array(x2)"
   ]
  },
  {
   "cell_type": "code",
   "execution_count": 607,
   "metadata": {
    "collapsed": false
   },
   "outputs": [
    {
     "name": "stdout",
     "output_type": "stream",
     "text": [
      "1000000 loops, best of 3: 1.54 µs per loop\n"
     ]
    }
   ],
   "source": [
    "%timeit a = [x + y for x, y in zip(x1, x2)]"
   ]
  },
  {
   "cell_type": "code",
   "execution_count": 608,
   "metadata": {
    "collapsed": false
   },
   "outputs": [
    {
     "name": "stdout",
     "output_type": "stream",
     "text": [
      "The slowest run took 21.05 times longer than the fastest. This could mean that an intermediate result is being cached.\n",
      "1000000 loops, best of 3: 714 ns per loop\n"
     ]
    }
   ],
   "source": [
    "%timeit y1+y2"
   ]
  },
  {
   "cell_type": "code",
   "execution_count": 609,
   "metadata": {
    "collapsed": false
   },
   "outputs": [
    {
     "name": "stdout",
     "output_type": "stream",
     "text": [
      "[ 5 12 21 32]\n"
     ]
    }
   ],
   "source": [
    "print y1*y2"
   ]
  },
  {
   "cell_type": "code",
   "execution_count": null,
   "metadata": {
    "collapsed": true
   },
   "outputs": [],
   "source": []
  },
  {
   "cell_type": "markdown",
   "metadata": {},
   "source": [
    "## Matplotlib"
   ]
  },
  {
   "cell_type": "code",
   "execution_count": 610,
   "metadata": {
    "collapsed": false
   },
   "outputs": [
    {
     "data": {
      "image/png": "[encoded data removed]",
      "text/plain": [
       "<matplotlib.figure.Figure at 0x1088f8f50>"
      ]
     },
     "metadata": {},
     "output_type": "display_data"
    }
   ],
   "source": [
    "import matplotlib.pyplot as plt\n",
    "%matplotlib inline\n",
    "\n",
    "def f1(x):\n",
    "    return 2*x - 6\n",
    "\n",
    "def f2(x):\n",
    "    return -4*x**4\n",
    "\n",
    "def graph1(func_1, func_2, func_3, x_range): \n",
    "    x = np.array(x_range) \n",
    "    plt.title(r\"Elementary functions\", fontsize=20)\n",
    "    plt.ylabel(r'y', fontsize =16)\n",
    "    plt.xlabel(r'x', fontsize =16)\n",
    "    plt.grid(True) \n",
    "    plt.plot(x, func_1(x), label=r'$y = sin(x)$') \n",
    "    plt.plot(x, func_2(x), label=r'$y = log_{10}x$') \n",
    "    plt.plot(x, func_3(x), label=r'$y = 2x - 6$') \n",
    "    plt.legend(loc='best', fontsize=20).get_frame().set_alpha(0.5)\n",
    "\n",
    "def graph2(func_1, func_2, x_range): \n",
    "    x = np.array(x_range) \n",
    "    plt.title(r\"Elementary functions\", fontsize=20)\n",
    "    plt.ylabel(r'y', fontsize =16)\n",
    "    plt.xlabel(r'x', fontsize =16)\n",
    "    plt.grid(True) \n",
    "    plt.plot(x, func_1(x), label=r'$y = -4*x^4$') \n",
    "    plt.plot(x, func_2(x), label=r'$y = shin(x)$')\n",
    "    plt.legend(loc='lower left', fontsize=20).get_frame().set_alpha(0.5)\n",
    "\n",
    "plt.figure(num=None, figsize=(16, 8), dpi=80, facecolor='w', edgecolor='k')\n",
    "plt.subplot(1, 2, 1)\n",
    "graph1(np.sin, np.log10, f1, np.arange(0.1, 10, 0.1))\n",
    "plt.subplot(1, 2, 2)\n",
    "graph2(np.sinh, f2, np.arange(0.1, 10, 0.1))\n",
    "plt.tight_layout()\n",
    "plt.savefig('elementary_func.png', bbox_inches='tight')\n",
    "plt.show()"
   ]
  },
  {
   "cell_type": "markdown",
   "metadata": {},
   "source": [
    "## SciPy"
   ]
  },
  {
   "cell_type": "code",
   "execution_count": 611,
   "metadata": {
    "collapsed": true
   },
   "outputs": [],
   "source": [
    "import scipy\n",
    "#from scipy import linalg"
   ]
  },
  {
   "cell_type": "code",
   "execution_count": 612,
   "metadata": {
    "collapsed": true
   },
   "outputs": [],
   "source": [
    "a = scipy.random.standard_normal((5,5))\n",
    "#print a"
   ]
  },
  {
   "cell_type": "code",
   "execution_count": 613,
   "metadata": {
    "collapsed": false
   },
   "outputs": [
    {
     "data": {
      "text/plain": [
       "6.1781465088232306"
      ]
     },
     "execution_count": 613,
     "metadata": {},
     "output_type": "execute_result"
    }
   ],
   "source": [
    "np.linalg.det(a)"
   ]
  },
  {
   "cell_type": "code",
   "execution_count": 614,
   "metadata": {
    "collapsed": false
   },
   "outputs": [
    {
     "name": "stdout",
     "output_type": "stream",
     "text": [
      "[-0.75716614+0.98092732j -0.75716614-0.98092732j  1.23589343+0.j\n",
      "  1.79023897+0.22489247j  1.79023897-0.22489247j]\n",
      "[[-0.16893778-0.05972668j -0.16893778+0.05972668j  0.14879345+0.j\n",
      "  -0.09107518+0.05841136j -0.09107518-0.05841136j]\n",
      " [ 0.07519042+0.4026321j   0.07519042-0.4026321j  -0.03387173+0.j\n",
      "  -0.41650541-0.12545485j -0.41650541+0.12545485j]\n",
      " [ 0.09307795-0.10364174j  0.09307795+0.10364174j  0.56144594+0.j\n",
      "  -0.09224377-0.21529546j -0.09224377+0.21529546j]\n",
      " [-0.42992498-0.29878322j -0.42992498+0.29878322j -0.74504211+0.j\n",
      "  -0.85377023+0.j         -0.85377023-0.j        ]\n",
      " [ 0.71176859+0.j          0.71176859-0.j          0.32619615+0.j\n",
      "  -0.08890966-0.08595449j -0.08890966+0.08595449j]]\n"
     ]
    }
   ],
   "source": [
    "w, v = linalg.eig(a)\n",
    "print w\n",
    "print v"
   ]
  },
  {
   "cell_type": "code",
   "execution_count": 615,
   "metadata": {
    "collapsed": false
   },
   "outputs": [
    {
     "name": "stdout",
     "output_type": "stream",
     "text": [
      "[[-0.16893778-0.05972668j  0.07519042+0.4026321j   0.09307795-0.10364174j\n",
      "  -0.42992498-0.29878322j  0.71176859+0.j        ]\n",
      " [-0.16893778+0.05972668j  0.07519042-0.4026321j   0.09307795+0.10364174j\n",
      "  -0.42992498+0.29878322j  0.71176859-0.j        ]\n",
      " [ 0.14879345+0.j         -0.03387173+0.j          0.56144594+0.j\n",
      "  -0.74504211+0.j          0.32619615+0.j        ]\n",
      " [-0.09107518+0.05841136j -0.41650541-0.12545485j -0.09224377-0.21529546j\n",
      "  -0.85377023+0.j         -0.08890966-0.08595449j]\n",
      " [-0.09107518-0.05841136j -0.41650541+0.12545485j -0.09224377+0.21529546j\n",
      "  -0.85377023-0.j         -0.08890966+0.08595449j]]\n"
     ]
    }
   ],
   "source": [
    "v = v.transpose()\n",
    "print v"
   ]
  },
  {
   "cell_type": "code",
   "execution_count": 616,
   "metadata": {
    "collapsed": false
   },
   "outputs": [],
   "source": [
    "e = np.eye(5)\n",
    "#print e"
   ]
  },
  {
   "cell_type": "code",
   "execution_count": 617,
   "metadata": {
    "collapsed": false
   },
   "outputs": [
    {
     "name": "stdout",
     "output_type": "stream",
     "text": [
      "(9.06223009446e-15-2.25760085365e-14j)\n",
      "(9.06223009446e-15+2.25760085365e-14j)\n",
      "(-2.89452807568e-15+0j)\n",
      "(-1.30368424726e-15-1.02156759086e-15j)\n",
      "(-1.30368424726e-15+1.02156759086e-15j)\n"
     ]
    }
   ],
   "source": [
    "for i in range (5):\n",
    "    print np.linalg.det(a-w[i]*e)"
   ]
  },
  {
   "cell_type": "code",
   "execution_count": null,
   "metadata": {
    "collapsed": true
   },
   "outputs": [],
   "source": [
    "#в округлении все эти значения нулевые, а значит всё хорошо"
   ]
  },
  {
   "cell_type": "code",
   "execution_count": 618,
   "metadata": {
    "collapsed": false
   },
   "outputs": [
    {
     "name": "stdout",
     "output_type": "stream",
     "text": [
      "[  5.41233725e-16 -1.11022302e-16j  -4.44089210e-16 +3.19189120e-16j\n",
      "   5.55111512e-17 +3.33066907e-16j   1.16573418e-15 -9.99200722e-16j\n",
      "  -4.44089210e-16 +1.11022302e-16j]\n",
      "[  5.41233725e-16 +1.11022302e-16j  -4.44089210e-16 -3.19189120e-16j\n",
      "   5.55111512e-17 -3.33066907e-16j   1.16573418e-15 +9.99200722e-16j\n",
      "  -4.44089210e-16 -1.11022302e-16j]\n",
      "[ -1.66533454e-16+0.j  -1.38777878e-16+0.j  -7.21644966e-16+0.j\n",
      "   1.66533454e-15+0.j  -3.33066907e-16+0.j]\n",
      "[ -5.01335085e-16 -1.45716772e-16j  -6.90419943e-16 -2.08166817e-16j\n",
      "  -6.03683770e-16 +1.04083409e-17j   9.43689571e-16 +1.11022302e-16j\n",
      "   1.07552856e-16 +1.07552856e-16j]\n",
      "[ -5.01335085e-16 +1.45716772e-16j  -6.90419943e-16 +2.08166817e-16j\n",
      "  -6.03683770e-16 -1.04083409e-17j   9.43689571e-16 -1.11022302e-16j\n",
      "   1.07552856e-16 -1.07552856e-16j]\n"
     ]
    }
   ],
   "source": [
    "for i in range (5):\n",
    "    print np.dot((a-w[i]*e),v[i])"
   ]
  },
  {
   "cell_type": "code",
   "execution_count": null,
   "metadata": {
    "collapsed": true
   },
   "outputs": [],
   "source": []
  }
 ],
 "metadata": {
  "anaconda-cloud": {},
  "kernelspec": {
   "display_name": "Python [Root]",
   "language": "python",
   "name": "Python [Root]"
  },
  "language_info": {
   "codemirror_mode": {
    "name": "ipython",
    "version": 2
   },
   "file_extension": ".py",
   "mimetype": "text/x-python",
   "name": "python",
   "nbconvert_exporter": "python",
   "pygments_lexer": "ipython2",
   "version": "2.7.12"
  }
 },
 "nbformat": 4,
 "nbformat_minor": 0
}
